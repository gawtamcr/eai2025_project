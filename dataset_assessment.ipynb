{
 "cells": [
  {
   "cell_type": "code",
   "execution_count": 3,
   "metadata": {},
   "outputs": [
    {
     "name": "stdout",
     "output_type": "stream",
     "text": [
      "\n",
      "\u001b[1m[\u001b[0m\u001b[34;49mnotice\u001b[0m\u001b[1;39;49m]\u001b[0m\u001b[39;49m A new release of pip is available: \u001b[0m\u001b[31;49m23.0.1\u001b[0m\u001b[39;49m -> \u001b[0m\u001b[32;49m25.2\u001b[0m\n",
      "\u001b[1m[\u001b[0m\u001b[34;49mnotice\u001b[0m\u001b[1;39;49m]\u001b[0m\u001b[39;49m To update, run: \u001b[0m\u001b[32;49mpip install --upgrade pip\u001b[0m\n"
     ]
    }
   ],
   "source": [
    "!pip install -q -U google-genai"
   ]
  },
  {
   "cell_type": "code",
   "execution_count": 4,
   "metadata": {},
   "outputs": [],
   "source": [
    "f = open(\"gemini_api.txt\")\n",
    "api_key = f.read()"
   ]
  },
  {
   "cell_type": "code",
   "execution_count": 5,
   "metadata": {},
   "outputs": [
    {
     "name": "stdout",
     "output_type": "stream",
     "text": [
      "[Result(object_presence=True, correct_object_position=True)]\n"
     ]
    }
   ],
   "source": [
    "from google import genai\n",
    "from pydantic import BaseModel\n",
    "\n",
    "client = genai.Client(api_key=api_key)\n",
    "\n",
    "class Result(BaseModel):\n",
    "    object_presence: bool\n",
    "    correct_object_position: bool\n",
    "\n",
    "def get_object_presence(image_path, subject):\n",
    "    # Upload the image\n",
    "    rgb_image = image_path\n",
    "    uploaded_file1 = client.files.upload(file=rgb_image)\n",
    "\n",
    "    subject = subject\n",
    "\n",
    "    # Create the prompt with text and multiple images\n",
    "    response = client.models.generate_content(\n",
    "        model=\"gemini-2.5-flash\",\n",
    "        contents=[\n",
    "            f\"The left image is the RGB picture of a scene. The right image is the voxel similarity map corresponding to this scene and the object '{subject}'. Yellow means high similarity (1) and purple means low similarity(0). Is there a {subject} in the RGB image ? Does the similarity map show higher values at the position of this object ?\",\n",
    "            uploaded_file1, \n",
    "            #uploaded_file2,\n",
    "        ],\n",
    "        config={\n",
    "            \"response_mime_type\": \"application/json\",\n",
    "            \"response_schema\": list[Result],\n",
    "        }\n",
    "    )\n",
    "\n",
    "    return response.parsed\n",
    "\n",
    "print(get_object_presence(\"E_grade_pics/sofa/sofa_18.png\", \"sofa\"))"
   ]
  }
 ],
 "metadata": {
  "kernelspec": {
   "display_name": ".venv_project",
   "language": "python",
   "name": "python3"
  },
  "language_info": {
   "codemirror_mode": {
    "name": "ipython",
    "version": 3
   },
   "file_extension": ".py",
   "mimetype": "text/x-python",
   "name": "python",
   "nbconvert_exporter": "python",
   "pygments_lexer": "ipython3",
   "version": "3.10.13"
  }
 },
 "nbformat": 4,
 "nbformat_minor": 2
}
